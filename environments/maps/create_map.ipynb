{
 "cells": [
  {
   "cell_type": "code",
   "execution_count": 2,
   "metadata": {},
   "outputs": [],
   "source": [
    "import numpy as np \n",
    "import cv2 \n",
    "from IPython.display import Image, display"
   ]
  },
  {
   "cell_type": "code",
   "execution_count": 54,
   "metadata": {},
   "outputs": [],
   "source": [
    "def map_to_Image(map_name):\n",
    "\n",
    "    with open(map_name+\".map\",\"r\") as f:\n",
    "        data = [line.rstrip('\\n') for line in f]\n",
    "    width, height = len(data), len(data[0])\n",
    "    assert all(len(s) == height for s in data), 'Map shape not correct, check for spaces'\n",
    "    print(f'{width=}, {height=}')\n",
    "    img = np.ones(shape = (width, height, 3))\n",
    "\n",
    "    for i,l in enumerate(data):\n",
    "        for j,c in enumerate(l):\n",
    "            if c == \"x\" or c == \"X\": \n",
    "                img[i,j,:] = [0,0,0]\n",
    "            elif c in \"abcd\": \n",
    "                img[i,j,:] = [1,0,0]\n",
    "    # scaled_image = cv2.resize(img, (11, 15))\n",
    "\n",
    "    # img = cv2.imread(\"maze_32x32.png\")\n",
    "\n",
    "    # img = cv2.imread(\"taxi_30x30.png\")\n",
    "\n",
    "    img2 = np.ones((img.shape[0],img.shape[1],3))\n",
    "\n",
    "    for i in range(img.shape[0]):\n",
    "        for j in range(img.shape[1]):\n",
    "            d = img[i,j,:]\n",
    "            for k in range(i,(i+1)): \n",
    "                for l in range(j,(j+1)):\n",
    "                    img2[k,l,:] = d\n",
    "        \n",
    "    cv2.imwrite(map_name+\"_custom.png\",img2*255)"
   ]
  },
  {
   "cell_type": "code",
   "execution_count": 39,
   "metadata": {},
   "outputs": [],
   "source": [
    "def image_to_map(image_name):\n",
    "    # Convert to np array\n",
    "    image_path = image_name + '.png'\n",
    "    img = cv2.imread(image_path)\n",
    "    img_gray = cv2.cvtColor(img, cv2.COLOR_BGR2GRAY)\n",
    "\n",
    "    # Set a threshold to convert pixels close to black to black\n",
    "    _, thresh = cv2.threshold(img_gray, 50, 255, cv2.THRESH_BINARY)\n",
    "\n",
    "    # Create custom x map of array\n",
    "    data = []\n",
    "    for i in range(thresh.shape[0]):\n",
    "        row_data = []\n",
    "        for j in range(thresh.shape[1]):\n",
    "            # Check the threshold value\n",
    "            if thresh[i, j] == 0:  # Black color for \"x\" or \"X\"\n",
    "                row_data.append(\"x\")\n",
    "            else:\n",
    "                row_data.append(\" \")\n",
    "        data.append(row_data)\n",
    "\n",
    "    map_file_path = image_name + '.map'\n",
    "\n",
    "    with open(map_file_path, 'w') as map_file:\n",
    "        for i, row in enumerate(data):\n",
    "            map_file.write(\"\".join(row))\n",
    "            if i < len(data) - 1:\n",
    "                map_file.write('\\n')\n",
    "\n",
    "    print(f\"Data saved to {map_file_path}\")\n",
    "\n"
   ]
  },
  {
   "cell_type": "code",
   "execution_count": 65,
   "metadata": {},
   "outputs": [
    {
     "name": "stdout",
     "output_type": "stream",
     "text": [
      "width=40, height=40\n"
     ]
    }
   ],
   "source": [
    "map_to_Image('maze_40x40_1')"
   ]
  },
  {
   "cell_type": "code",
   "execution_count": 63,
   "metadata": {},
   "outputs": [
    {
     "name": "stdout",
     "output_type": "stream",
     "text": [
      "Data saved to maze_40x40.map\n"
     ]
    }
   ],
   "source": [
    "image_to_map('maze_40x40')"
   ]
  },
  {
   "cell_type": "code",
   "execution_count": 60,
   "metadata": {},
   "outputs": [
    {
     "name": "stdout",
     "output_type": "stream",
     "text": [
      "width=32, height=32\n"
     ]
    }
   ],
   "source": [
    "map_to_Image('maze_32x32')"
   ]
  },
  {
   "cell_type": "code",
   "execution_count": 49,
   "metadata": {},
   "outputs": [],
   "source": [
    "map_name = 'maze_16x16'\n",
    "with open(map_name+\".map\",\"r\") as f:\n",
    "    data = [line.rstrip('\\n') for line in f]"
   ]
  },
  {
   "cell_type": "code",
   "execution_count": 50,
   "metadata": {},
   "outputs": [
    {
     "data": {
      "text/plain": [
       "['        xx      ',\n",
       " '        xx      ',\n",
       " '        xx      ',\n",
       " '        xx      ',\n",
       " 'xxxx    xx  xx  ',\n",
       " 'xxxx    xx  xx  ',\n",
       " '        xx  xxxx',\n",
       " '        xx  xxxx',\n",
       " '    xxxxxx      ',\n",
       " '    xxxxxx      ',\n",
       " '    xx          ',\n",
       " '    xx          ',\n",
       " '    xx    xx    ',\n",
       " '    xx    xx    ',\n",
       " '          xx    ',\n",
       " '          xx    ']"
      ]
     },
     "execution_count": 50,
     "metadata": {},
     "output_type": "execute_result"
    }
   ],
   "source": [
    "data"
   ]
  },
  {
   "cell_type": "code",
   "execution_count": 51,
   "metadata": {},
   "outputs": [
    {
     "ename": "AttributeError",
     "evalue": "'list' object has no attribute 'shape'",
     "output_type": "error",
     "traceback": [
      "\u001b[0;31m---------------------------------------------------------------------------\u001b[0m",
      "\u001b[0;31mAttributeError\u001b[0m                            Traceback (most recent call last)",
      "Cell \u001b[0;32mIn[51], line 1\u001b[0m\n\u001b[0;32m----> 1\u001b[0m \u001b[43mdata\u001b[49m\u001b[38;5;241;43m.\u001b[39;49m\u001b[43mshape\u001b[49m\n",
      "\u001b[0;31mAttributeError\u001b[0m: 'list' object has no attribute 'shape'"
     ]
    }
   ],
   "source": [
    "data.shape\n"
   ]
  },
  {
   "cell_type": "code",
   "execution_count": 53,
   "metadata": {},
   "outputs": [
    {
     "data": {
      "text/plain": [
       "(16,)"
      ]
     },
     "execution_count": 53,
     "metadata": {},
     "output_type": "execute_result"
    }
   ],
   "source": [
    "np.array(data).shape"
   ]
  },
  {
   "cell_type": "code",
   "execution_count": 61,
   "metadata": {},
   "outputs": [],
   "source": [
    "def rescale_image(image_name, shape):\n",
    "    image_path = image_name + '.png'  # Replace with your image path\n",
    "    original_image = cv2.imread(image_path, cv2.IMREAD_UNCHANGED)\n",
    "\n",
    "    # Resize to 40x40\n",
    "    rescaled_image = cv2.resize(original_image, shape, interpolation=cv2.INTER_NEAREST)\n",
    "\n",
    "    # Save the rescaled image\n",
    "    cv2.imwrite(f'rescaled_{str(shape)}.png', rescaled_image)\n"
   ]
  },
  {
   "cell_type": "code",
   "execution_count": 62,
   "metadata": {},
   "outputs": [],
   "source": [
    "rescale_image('maze_8x8', (40,40))"
   ]
  },
  {
   "cell_type": "code",
   "execution_count": null,
   "metadata": {},
   "outputs": [],
   "source": []
  }
 ],
 "metadata": {
  "kernelspec": {
   "display_name": "venv",
   "language": "python",
   "name": "python3"
  },
  "language_info": {
   "codemirror_mode": {
    "name": "ipython",
    "version": 3
   },
   "file_extension": ".py",
   "mimetype": "text/x-python",
   "name": "python",
   "nbconvert_exporter": "python",
   "pygments_lexer": "ipython3",
   "version": "3.10.12"
  }
 },
 "nbformat": 4,
 "nbformat_minor": 2
}
